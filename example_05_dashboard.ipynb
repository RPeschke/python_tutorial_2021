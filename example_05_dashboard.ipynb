{
 "cells": [
  {
   "cell_type": "code",
   "execution_count": 1,
   "metadata": {
    "extensions": {
     "jupyter_dashboards": {
      "version": 1,
      "views": {
       "grid_default": {},
       "report_default": {}
      }
     }
    }
   },
   "outputs": [
    {
     "data": {
      "text/html": [
       "<style>.container { width:100% !important; }</style>"
      ],
      "text/plain": [
       "<IPython.core.display.HTML object>"
      ]
     },
     "metadata": {},
     "output_type": "display_data"
    },
    {
     "data": {
      "text/html": [
       "<script>$(\"div.input\").show()</script>"
      ],
      "text/plain": [
       "<IPython.core.display.HTML object>"
      ]
     },
     "metadata": {},
     "output_type": "display_data"
    }
   ],
   "source": [
    "from __future__ import print_function\n",
    "from ipywidgets import interact, interactive, fixed, interact_manual,IntSlider\n",
    "import ipywidgets as widgets\n",
    "from ipywidgets import HBox, Label,VBox\n",
    "\n",
    "import matplotlib.pyplot as plt\n",
    "import matplotlib as mpl\n",
    "import numpy as np\n",
    "import pandas as pd\n",
    "import uproot\n",
    "import py_helpers.group_apply as ga\n",
    "import py_helpers.klm_helpers as klm\n",
    "from IPython.core.display import display, HTML\n",
    "from IPython.display import clear_output\n",
    "display(HTML(\"<style>.container { width:100% !important; }</style>\"))\n",
    "#%matplotlib inline\n",
    "#%matplotlib notebook\n",
    "\n",
    "%matplotlib widget\n",
    "import ipywidgets as widgets\n",
    "from IPython.display import display, HTML\n",
    "\n",
    "javascript_functions = {False: \"hide()\", True: \"show()\"}\n",
    "button_descriptions  = {False: \"Show code\", True: \"Hide code\"}\n",
    "\n",
    "\n",
    "def toggle_code(state):\n",
    "\n",
    "    \"\"\"\n",
    "    Toggles the JavaScript show()/hide() function on the div.input element.\n",
    "    \"\"\"\n",
    "\n",
    "    output_string = \"<script>$(\\\"div.input\\\").{}</script>\"\n",
    "    output_args   = (javascript_functions[state],)\n",
    "    output        = output_string.format(*output_args)\n",
    "\n",
    "    display(HTML(output))\n",
    "\n",
    "\n",
    "def button_action(value):\n",
    "\n",
    "    \"\"\"\n",
    "    Calls the toggle_code function and updates the button description.\n",
    "    \"\"\"\n",
    "\n",
    "    state = value.new\n",
    "\n",
    "    toggle_code(state)\n",
    "\n",
    "    value.owner.description = button_descriptions[state]\n",
    "\n",
    "\n",
    "state = True\n",
    "toggle_code(state)\n",
    "if 'myVar1' not in locals():\n",
    "    button = widgets.ToggleButton(state, description = button_descriptions[state])\n",
    "    button.observe(button_action, \"value\")\n",
    "\n"
   ]
  },
  {
   "cell_type": "code",
   "execution_count": 2,
   "metadata": {},
   "outputs": [],
   "source": [
    "\n",
    "class dashboard:\n",
    "    def __init__(self):\n",
    "        self.x1 = np.linspace(0, 2 * np.pi)\n",
    "        plt.ioff() # turn off interactive mode so figure doesn't show\n",
    "        self.fig1 = plt.figure()\n",
    "        self.ax1 = self.fig1.add_subplot(1, 1, 1)\n",
    "        plt.ion() # figure still doesn't show\n",
    "        self.line1, = self.ax1.plot(self.x1, np.sin(self.x1))\n",
    "        plt.ylim([-5,5])\n",
    "        self.values = {\n",
    "            'a': 1, 'b': 1, 'c': 1\n",
    "        }\n",
    "\n",
    "        def update2(a = 10.0, b =1 ,c =0):\n",
    "            self.line1.set_ydata( a* np.sin(b * self.x1 + c))\n",
    "            self.fig1.canvas.draw_idle()\n",
    "            self.a.value = int(a)\n",
    "            self.b.value = int(b)\n",
    "            self.c.value = int(c)\n",
    "            self.values[\"a\"] = int(a)\n",
    "            self.values[\"b\"] = int(b)\n",
    "            self.values[\"c\"] = int(c)\n",
    "\n",
    "        self.a = widgets.IntSlider(min = 1 , max = 5)\n",
    "        self.b = widgets.IntSlider(min = 1 , max = 5)\n",
    "        self.c = widgets.IntSlider(min = 1 , max = 5)\n",
    "        #ui = widgets.VBox([a, b, c])\n",
    "\n",
    "        #w = widgets.interactive_output(update2, {\"a\": sl})\n",
    "        self.out = widgets.interactive_output(update2, {'a': self.a, 'b': self.b, 'c': self.c})\n",
    "        \n",
    "    def display(self):\n",
    "        display(\n",
    "            VBox([\n",
    "                button,\n",
    "                HBox([\n",
    "                    self.fig1.canvas,  \n",
    "                    VBox([\n",
    "                        Label(\"amplitude\"),\n",
    "                        self.a, \n",
    "                        Label(\"omega\"),\n",
    "                        self.b, \n",
    "                        Label(\"phi\"),\n",
    "                        self.c \n",
    "                        ])\n",
    "                    ])\n",
    "                ])\n",
    "                )\n",
    "\n",
    "\n",
    "\n",
    "        \n",
    "d = dashboard()\n",
    "\n"
   ]
  },
  {
   "cell_type": "code",
   "execution_count": 6,
   "metadata": {},
   "outputs": [
    {
     "data": {
      "application/vnd.jupyter.widget-view+json": {
       "model_id": "0568ceff40aa40a09df1f37ccba96ca1",
       "version_major": 2,
       "version_minor": 0
      },
      "text/plain": [
       "VBox(children=(ToggleButton(value=False, description='Show code'), HBox(children=(Canvas(toolbar=Toolbar(tooli…"
      ]
     },
     "metadata": {},
     "output_type": "display_data"
    },
    {
     "data": {
      "text/html": [
       "<script>$(\"div.input\").show()</script>"
      ],
      "text/plain": [
       "<IPython.core.display.HTML object>"
      ]
     },
     "metadata": {},
     "output_type": "display_data"
    },
    {
     "data": {
      "text/html": [
       "<script>$(\"div.input\").hide()</script>"
      ],
      "text/plain": [
       "<IPython.core.display.HTML object>"
      ]
     },
     "metadata": {},
     "output_type": "display_data"
    },
    {
     "data": {
      "text/html": [
       "<script>$(\"div.input\").show()</script>"
      ],
      "text/plain": [
       "<IPython.core.display.HTML object>"
      ]
     },
     "metadata": {},
     "output_type": "display_data"
    },
    {
     "data": {
      "text/html": [
       "<script>$(\"div.input\").hide()</script>"
      ],
      "text/plain": [
       "<IPython.core.display.HTML object>"
      ]
     },
     "metadata": {},
     "output_type": "display_data"
    },
    {
     "data": {
      "text/html": [
       "<script>$(\"div.input\").show()</script>"
      ],
      "text/plain": [
       "<IPython.core.display.HTML object>"
      ]
     },
     "metadata": {},
     "output_type": "display_data"
    },
    {
     "data": {
      "text/html": [
       "<script>$(\"div.input\").hide()</script>"
      ],
      "text/plain": [
       "<IPython.core.display.HTML object>"
      ]
     },
     "metadata": {},
     "output_type": "display_data"
    },
    {
     "data": {
      "text/html": [
       "<script>$(\"div.input\").show()</script>"
      ],
      "text/plain": [
       "<IPython.core.display.HTML object>"
      ]
     },
     "metadata": {},
     "output_type": "display_data"
    },
    {
     "data": {
      "text/html": [
       "<script>$(\"div.input\").hide()</script>"
      ],
      "text/plain": [
       "<IPython.core.display.HTML object>"
      ]
     },
     "metadata": {},
     "output_type": "display_data"
    },
    {
     "data": {
      "text/html": [
       "<script>$(\"div.input\").show()</script>"
      ],
      "text/plain": [
       "<IPython.core.display.HTML object>"
      ]
     },
     "metadata": {},
     "output_type": "display_data"
    },
    {
     "data": {
      "text/html": [
       "<script>$(\"div.input\").hide()</script>"
      ],
      "text/plain": [
       "<IPython.core.display.HTML object>"
      ]
     },
     "metadata": {},
     "output_type": "display_data"
    }
   ],
   "source": [
    "d.display()"
   ]
  }
 ],
 "metadata": {
  "extensions": {
   "jupyter_dashboards": {
    "activeView": "grid_default",
    "version": 1,
    "views": {
     "grid_default": {
      "cellMargin": 10,
      "defaultCellHeight": 20,
      "maxColumns": 12,
      "name": "grid",
      "type": "grid"
     },
     "report_default": {
      "name": "report",
      "type": "report"
     }
    }
   }
  },
  "kernelspec": {
   "display_name": "Python 3",
   "language": "python",
   "name": "python3"
  },
  "language_info": {
   "codemirror_mode": {
    "name": "ipython",
    "version": 3
   },
   "file_extension": ".py",
   "mimetype": "text/x-python",
   "name": "python",
   "nbconvert_exporter": "python",
   "pygments_lexer": "ipython3",
   "version": "3.8.5"
  }
 },
 "nbformat": 4,
 "nbformat_minor": 4
}
