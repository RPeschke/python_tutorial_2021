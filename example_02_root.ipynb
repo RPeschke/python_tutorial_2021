{
 "cells": [
  {
   "cell_type": "code",
   "execution_count": 1,
   "metadata": {},
   "outputs": [
    {
     "data": {
      "text/html": [
       "<style>.container { width:100% !important; }</style>"
      ],
      "text/plain": [
       "<IPython.core.display.HTML object>"
      ]
     },
     "metadata": {},
     "output_type": "display_data"
    }
   ],
   "source": [
    "import matplotlib.pyplot as plt\n",
    "import numpy as np\n",
    "import pandas as pd\n",
    "import uproot\n",
    "import py_helpers.group_apply as ga\n",
    "from IPython.core.display import display, HTML\n",
    "display(HTML(\"<style>.container { width:100% !important; }</style>\"))\n",
    "%matplotlib inline"
   ]
  },
  {
   "cell_type": "code",
   "execution_count": 2,
   "metadata": {},
   "outputs": [],
   "source": [
    "file = uproot.open(\"data/peschke_208_nLayerTrigger_7_particlegun.root\")"
   ]
  },
  {
   "cell_type": "code",
   "execution_count": 3,
   "metadata": {},
   "outputs": [
    {
     "data": {
      "text/plain": [
       "[b'MCParticles;2',\n",
       " b'MCParticles;1',\n",
       " b'TRGKLMHits;2',\n",
       " b'TRGKLMHits;1',\n",
       " b'KLMDigits;2',\n",
       " b'KLMDigits;1',\n",
       " b'KLMTrgSummary;2',\n",
       " b'KLMTrgSummary;1']"
      ]
     },
     "execution_count": 3,
     "metadata": {},
     "output_type": "execute_result"
    }
   ],
   "source": [
    "file.keys()"
   ]
  },
  {
   "cell_type": "code",
   "execution_count": 4,
   "metadata": {},
   "outputs": [
    {
     "data": {
      "text/plain": [
       "[b'event_nr',\n",
       " b'strip',\n",
       " b'charge',\n",
       " b'ctime',\n",
       " b'Subdetector',\n",
       " b'TDC',\n",
       " b'time',\n",
       " b'sector',\n",
       " b'section',\n",
       " b'layer',\n",
       " b'plane']"
      ]
     },
     "execution_count": 4,
     "metadata": {},
     "output_type": "execute_result"
    }
   ],
   "source": [
    "file[\"KLMDigits\"].keys()"
   ]
  },
  {
   "cell_type": "code",
   "execution_count": 5,
   "metadata": {},
   "outputs": [],
   "source": [
    "MCParticles = file[\"MCParticles\"].pandas.df()\n",
    "\n",
    "\n",
    "KLMDigits = file[\"KLMDigits\"].pandas.df()\n",
    "\n"
   ]
  },
  {
   "cell_type": "code",
   "execution_count": 86,
   "metadata": {},
   "outputs": [],
   "source": []
  },
  {
   "cell_type": "code",
   "execution_count": 6,
   "metadata": {},
   "outputs": [
    {
     "data": {
      "image/png": "[encoded data removed]",
      "text/plain": [
       "<Figure size 432x288 with 1 Axes>"
      ]
     },
     "metadata": {
      "needs_background": "light"
     },
     "output_type": "display_data"
    }
   ],
   "source": [
    "df1 = MCParticles\n",
    "dummy = plt.hist2d(df1[\"x_Decay\"],df1[\"y_Decay\"],bins=70)"
   ]
  },
  {
   "cell_type": "code",
   "execution_count": 7,
   "metadata": {},
   "outputs": [
    {
     "data": {
      "image/png": "[encoded data removed]",
      "text/plain": [
       "<Figure size 432x288 with 1 Axes>"
      ]
     },
     "metadata": {
      "needs_background": "light"
     },
     "output_type": "display_data"
    }
   ],
   "source": [
    "df1 = MCParticles[MCParticles.PDG ==13]\n",
    "dummy = plt.hist(np.sqrt( df1[\"x_Decay\"]**2 + df1[\"y_Decay\"]**2),bins=70)"
   ]
  },
  {
   "cell_type": "code",
   "execution_count": 8,
   "metadata": {},
   "outputs": [
    {
     "data": {
      "image/png": "[encoded data removed]",
      "text/plain": [
       "<Figure size 432x288 with 1 Axes>"
      ]
     },
     "metadata": {
      "needs_background": "light"
     },
     "output_type": "display_data"
    }
   ],
   "source": [
    "dummy = plt.hist(KLMDigits.layer, bins= 70)"
   ]
  },
  {
   "cell_type": "code",
   "execution_count": 9,
   "metadata": {},
   "outputs": [],
   "source": [
    "MCParticles[\"theta\"] = np.arctan2(np.sqrt(MCParticles[\"px\"]*MCParticles[\"px\"]+MCParticles[\"py\"]*MCParticles[\"py\"]),MCParticles[\"pz\"])\n",
    "MCParticles[\"phi\"]   = np.arctan2(MCParticles[\"py\"],MCParticles[\"px\"])\n",
    "MC_Muon = MCParticles[(MCParticles.PDG == 13)| (MCParticles.PDG == -13)]"
   ]
  },
  {
   "cell_type": "code",
   "execution_count": 10,
   "metadata": {},
   "outputs": [],
   "source": [
    "config = pd.read_csv(\"configuration/KLM_acceptance_revers.csv\", delimiter = \";\")  "
   ]
  },
  {
   "cell_type": "code",
   "execution_count": 11,
   "metadata": {},
   "outputs": [
    {
     "data": {
      "text/html": [
       "<div>\n",
       "<style scoped>\n",
       "    .dataframe tbody tr th:only-of-type {\n",
       "        vertical-align: middle;\n",
       "    }\n",
       "\n",
       "    .dataframe tbody tr th {\n",
       "        vertical-align: top;\n",
       "    }\n",
       "\n",
       "    .dataframe thead th {\n",
       "        text-align: right;\n",
       "    }\n",
       "</style>\n",
       "<table border=\"1\" class=\"dataframe\">\n",
       "  <thead>\n",
       "    <tr style=\"text-align: right;\">\n",
       "      <th></th>\n",
       "      <th>event_nr</th>\n",
       "      <th>strip</th>\n",
       "      <th>charge</th>\n",
       "      <th>ctime</th>\n",
       "      <th>Subdetector</th>\n",
       "      <th>TDC</th>\n",
       "      <th>time</th>\n",
       "      <th>sector</th>\n",
       "      <th>section</th>\n",
       "      <th>layer</th>\n",
       "      <th>plane</th>\n",
       "      <th>theta_min</th>\n",
       "      <th>theta_max</th>\n",
       "      <th>phi_min</th>\n",
       "      <th>phi_max</th>\n",
       "    </tr>\n",
       "  </thead>\n",
       "  <tbody>\n",
       "    <tr>\n",
       "      <th>0</th>\n",
       "      <td>1</td>\n",
       "      <td>52.0</td>\n",
       "      <td>3155.0</td>\n",
       "      <td>0.0</td>\n",
       "      <td>1.0</td>\n",
       "      <td>21.0</td>\n",
       "      <td>20.634197</td>\n",
       "      <td>8.0</td>\n",
       "      <td>1.0</td>\n",
       "      <td>1.0</td>\n",
       "      <td>0.0</td>\n",
       "      <td>0.0</td>\n",
       "      <td>1.5</td>\n",
       "      <td>-1.5</td>\n",
       "      <td>0.0</td>\n",
       "    </tr>\n",
       "    <tr>\n",
       "      <th>1</th>\n",
       "      <td>1</td>\n",
       "      <td>6.0</td>\n",
       "      <td>3287.0</td>\n",
       "      <td>0.0</td>\n",
       "      <td>1.0</td>\n",
       "      <td>14.0</td>\n",
       "      <td>13.756131</td>\n",
       "      <td>8.0</td>\n",
       "      <td>1.0</td>\n",
       "      <td>1.0</td>\n",
       "      <td>1.0</td>\n",
       "      <td>0.0</td>\n",
       "      <td>1.5</td>\n",
       "      <td>-1.5</td>\n",
       "      <td>0.0</td>\n",
       "    </tr>\n",
       "    <tr>\n",
       "      <th>2</th>\n",
       "      <td>1</td>\n",
       "      <td>54.0</td>\n",
       "      <td>3321.0</td>\n",
       "      <td>0.0</td>\n",
       "      <td>1.0</td>\n",
       "      <td>22.0</td>\n",
       "      <td>21.616777</td>\n",
       "      <td>8.0</td>\n",
       "      <td>1.0</td>\n",
       "      <td>2.0</td>\n",
       "      <td>0.0</td>\n",
       "      <td>0.0</td>\n",
       "      <td>1.5</td>\n",
       "      <td>-1.5</td>\n",
       "      <td>0.0</td>\n",
       "    </tr>\n",
       "    <tr>\n",
       "      <th>3</th>\n",
       "      <td>1</td>\n",
       "      <td>36.0</td>\n",
       "      <td>3389.0</td>\n",
       "      <td>0.0</td>\n",
       "      <td>1.0</td>\n",
       "      <td>15.0</td>\n",
       "      <td>14.738712</td>\n",
       "      <td>8.0</td>\n",
       "      <td>1.0</td>\n",
       "      <td>2.0</td>\n",
       "      <td>1.0</td>\n",
       "      <td>0.0</td>\n",
       "      <td>1.5</td>\n",
       "      <td>-1.5</td>\n",
       "      <td>0.0</td>\n",
       "    </tr>\n",
       "    <tr>\n",
       "      <th>4</th>\n",
       "      <td>22</td>\n",
       "      <td>4.0</td>\n",
       "      <td>3350.0</td>\n",
       "      <td>0.0</td>\n",
       "      <td>1.0</td>\n",
       "      <td>15.0</td>\n",
       "      <td>14.738712</td>\n",
       "      <td>8.0</td>\n",
       "      <td>1.0</td>\n",
       "      <td>1.0</td>\n",
       "      <td>0.0</td>\n",
       "      <td>0.0</td>\n",
       "      <td>1.5</td>\n",
       "      <td>-1.5</td>\n",
       "      <td>0.0</td>\n",
       "    </tr>\n",
       "    <tr>\n",
       "      <th>...</th>\n",
       "      <td>...</td>\n",
       "      <td>...</td>\n",
       "      <td>...</td>\n",
       "      <td>...</td>\n",
       "      <td>...</td>\n",
       "      <td>...</td>\n",
       "      <td>...</td>\n",
       "      <td>...</td>\n",
       "      <td>...</td>\n",
       "      <td>...</td>\n",
       "      <td>...</td>\n",
       "      <td>...</td>\n",
       "      <td>...</td>\n",
       "      <td>...</td>\n",
       "      <td>...</td>\n",
       "    </tr>\n",
       "    <tr>\n",
       "      <th>384366</th>\n",
       "      <td>9979</td>\n",
       "      <td>13.0</td>\n",
       "      <td>0.0</td>\n",
       "      <td>0.0</td>\n",
       "      <td>1.0</td>\n",
       "      <td>0.0</td>\n",
       "      <td>28.634769</td>\n",
       "      <td>6.0</td>\n",
       "      <td>1.0</td>\n",
       "      <td>14.0</td>\n",
       "      <td>0.0</td>\n",
       "      <td>0.0</td>\n",
       "      <td>1.5</td>\n",
       "      <td>-3.5</td>\n",
       "      <td>-1.5</td>\n",
       "    </tr>\n",
       "    <tr>\n",
       "      <th>384367</th>\n",
       "      <td>9979</td>\n",
       "      <td>3.0</td>\n",
       "      <td>0.0</td>\n",
       "      <td>0.0</td>\n",
       "      <td>1.0</td>\n",
       "      <td>0.0</td>\n",
       "      <td>22.936607</td>\n",
       "      <td>6.0</td>\n",
       "      <td>1.0</td>\n",
       "      <td>14.0</td>\n",
       "      <td>1.0</td>\n",
       "      <td>0.0</td>\n",
       "      <td>1.5</td>\n",
       "      <td>-3.5</td>\n",
       "      <td>-1.5</td>\n",
       "    </tr>\n",
       "    <tr>\n",
       "      <th>384368</th>\n",
       "      <td>9979</td>\n",
       "      <td>12.0</td>\n",
       "      <td>0.0</td>\n",
       "      <td>0.0</td>\n",
       "      <td>1.0</td>\n",
       "      <td>0.0</td>\n",
       "      <td>29.452286</td>\n",
       "      <td>6.0</td>\n",
       "      <td>1.0</td>\n",
       "      <td>15.0</td>\n",
       "      <td>0.0</td>\n",
       "      <td>0.0</td>\n",
       "      <td>1.5</td>\n",
       "      <td>-3.5</td>\n",
       "      <td>-1.5</td>\n",
       "    </tr>\n",
       "    <tr>\n",
       "      <th>384369</th>\n",
       "      <td>9979</td>\n",
       "      <td>13.0</td>\n",
       "      <td>0.0</td>\n",
       "      <td>0.0</td>\n",
       "      <td>1.0</td>\n",
       "      <td>0.0</td>\n",
       "      <td>29.452286</td>\n",
       "      <td>6.0</td>\n",
       "      <td>1.0</td>\n",
       "      <td>15.0</td>\n",
       "      <td>0.0</td>\n",
       "      <td>0.0</td>\n",
       "      <td>1.5</td>\n",
       "      <td>-3.5</td>\n",
       "      <td>-1.5</td>\n",
       "    </tr>\n",
       "    <tr>\n",
       "      <th>384370</th>\n",
       "      <td>9979</td>\n",
       "      <td>3.0</td>\n",
       "      <td>0.0</td>\n",
       "      <td>0.0</td>\n",
       "      <td>1.0</td>\n",
       "      <td>0.0</td>\n",
       "      <td>23.075214</td>\n",
       "      <td>6.0</td>\n",
       "      <td>1.0</td>\n",
       "      <td>15.0</td>\n",
       "      <td>1.0</td>\n",
       "      <td>0.0</td>\n",
       "      <td>1.5</td>\n",
       "      <td>-3.5</td>\n",
       "      <td>-1.5</td>\n",
       "    </tr>\n",
       "  </tbody>\n",
       "</table>\n",
       "<p>384371 rows × 15 columns</p>\n",
       "</div>"
      ],
      "text/plain": [
       "        event_nr  strip  charge  ctime  Subdetector   TDC       time  sector  \\\n",
       "0              1   52.0  3155.0    0.0          1.0  21.0  20.634197     8.0   \n",
       "1              1    6.0  3287.0    0.0          1.0  14.0  13.756131     8.0   \n",
       "2              1   54.0  3321.0    0.0          1.0  22.0  21.616777     8.0   \n",
       "3              1   36.0  3389.0    0.0          1.0  15.0  14.738712     8.0   \n",
       "4             22    4.0  3350.0    0.0          1.0  15.0  14.738712     8.0   \n",
       "...          ...    ...     ...    ...          ...   ...        ...     ...   \n",
       "384366      9979   13.0     0.0    0.0          1.0   0.0  28.634769     6.0   \n",
       "384367      9979    3.0     0.0    0.0          1.0   0.0  22.936607     6.0   \n",
       "384368      9979   12.0     0.0    0.0          1.0   0.0  29.452286     6.0   \n",
       "384369      9979   13.0     0.0    0.0          1.0   0.0  29.452286     6.0   \n",
       "384370      9979    3.0     0.0    0.0          1.0   0.0  23.075214     6.0   \n",
       "\n",
       "        section  layer  plane  theta_min  theta_max  phi_min  phi_max  \n",
       "0           1.0    1.0    0.0        0.0        1.5     -1.5      0.0  \n",
       "1           1.0    1.0    1.0        0.0        1.5     -1.5      0.0  \n",
       "2           1.0    2.0    0.0        0.0        1.5     -1.5      0.0  \n",
       "3           1.0    2.0    1.0        0.0        1.5     -1.5      0.0  \n",
       "4           1.0    1.0    0.0        0.0        1.5     -1.5      0.0  \n",
       "...         ...    ...    ...        ...        ...      ...      ...  \n",
       "384366      1.0   14.0    0.0        0.0        1.5     -3.5     -1.5  \n",
       "384367      1.0   14.0    1.0        0.0        1.5     -3.5     -1.5  \n",
       "384368      1.0   15.0    0.0        0.0        1.5     -3.5     -1.5  \n",
       "384369      1.0   15.0    0.0        0.0        1.5     -3.5     -1.5  \n",
       "384370      1.0   15.0    1.0        0.0        1.5     -3.5     -1.5  \n",
       "\n",
       "[384371 rows x 15 columns]"
      ]
     },
     "execution_count": 11,
     "metadata": {},
     "output_type": "execute_result"
    }
   ],
   "source": [
    "KLMDigits_with_accaptance = KLMDigits.merge(config, on=[\"Subdetector\",\"section\",\"sector\"])\n",
    "KLMDigits_with_accaptance"
   ]
  },
  {
   "cell_type": "code",
   "execution_count": 16,
   "metadata": {},
   "outputs": [],
   "source": [
    "c_BKLM = 1\n",
    "c_EKLM = 2\n",
    "c_BKLM_BackwardSection = 0\n",
    "c_BKLM_ForwardSection = 1\n",
    "c_EKLM_BackwardSection = 1\n",
    "c_EKLM_ForwardSection = 2\n",
    "\n",
    "i_sector_EKLM_ForwardSection  = 0\n",
    "i_sector_BKLM_ForwardSection   = 1\n",
    "i_sector_BKLM_BackwardSection  = 2\n",
    "i_sector_EKLM_BackwardSection  = 3\n",
    "\n",
    "KLMDigits_with_accaptance[\"i_sector\"] = i_sector_EKLM_ForwardSection * ((KLMDigits_with_accaptance[\"Subdetector\"] == c_EKLM) & (KLMDigits_with_accaptance[\"section\"] == c_EKLM_ForwardSection)) + \\\n",
    "                                          i_sector_BKLM_ForwardSection * ((KLMDigits_with_accaptance[\"Subdetector\"] == c_BKLM) & (KLMDigits_with_accaptance[\"section\"] == c_BKLM_ForwardSection)) + \\\n",
    "                                          i_sector_BKLM_BackwardSection* ((KLMDigits_with_accaptance[\"Subdetector\"] == c_BKLM) & (KLMDigits_with_accaptance[\"section\"] == c_BKLM_BackwardSection)) + \\\n",
    "                                          i_sector_EKLM_BackwardSection* ((KLMDigits_with_accaptance[\"Subdetector\"] == c_EKLM) & (KLMDigits_with_accaptance[\"section\"] == c_EKLM_BackwardSection)) \n",
    "\n"
   ]
  },
  {
   "cell_type": "code",
   "execution_count": 17,
   "metadata": {},
   "outputs": [],
   "source": [
    "df_muon_digits =  MC_Muon.merge(KLMDigits_with_accaptance, on = \"event_nr\")\n"
   ]
  },
  {
   "cell_type": "code",
   "execution_count": 18,
   "metadata": {},
   "outputs": [
    {
     "data": {
      "text/plain": [
       "Text(0.5, 0, 'theta')"
      ]
     },
     "execution_count": 18,
     "metadata": {},
     "output_type": "execute_result"
    },
    {
     "data": {
      "image/png": "[encoded data removed]",
      "text/plain": [
       "<Figure size 432x288 with 1 Axes>"
      ]
     },
     "metadata": {
      "needs_background": "light"
     },
     "output_type": "display_data"
    }
   ],
   "source": [
    "h0 = plt.hist(df_muon_digits.theta,bins=70)\n",
    "dummy = plt.hist(df_muon_digits[df_muon_digits.i_sector  == i_sector_EKLM_ForwardSection].theta,bins=h0[1])\n",
    "\n",
    "dummy = plt.hist(df_muon_digits[df_muon_digits.i_sector  == i_sector_BKLM_ForwardSection].theta,bins=h0[1])\n",
    "dummy = plt.hist(df_muon_digits[df_muon_digits.i_sector  == i_sector_BKLM_BackwardSection].theta,bins=h0[1])\n",
    "dummy = plt.hist(df_muon_digits[df_muon_digits.i_sector  == i_sector_EKLM_BackwardSection].theta,bins=h0[1])\n",
    "plt.xlabel(\"theta\")"
   ]
  },
  {
   "cell_type": "code",
   "execution_count": 100,
   "metadata": {},
   "outputs": [
    {
     "data": {
      "text/plain": [
       "10006"
      ]
     },
     "execution_count": 100,
     "metadata": {},
     "output_type": "execute_result"
    }
   ],
   "source": [
    "len(MC_Muon)"
   ]
  },
  {
   "cell_type": "code",
   "execution_count": 101,
   "metadata": {},
   "outputs": [
    {
     "data": {
      "text/plain": [
       "384614"
      ]
     },
     "execution_count": 101,
     "metadata": {},
     "output_type": "execute_result"
    }
   ],
   "source": [
    "len(df_muon_digits)"
   ]
  },
  {
   "cell_type": "code",
   "execution_count": 105,
   "metadata": {},
   "outputs": [
    {
     "data": {
      "text/plain": [
       "9693"
      ]
     },
     "execution_count": 105,
     "metadata": {},
     "output_type": "execute_result"
    }
   ],
   "source": [
    "len(df_muon_digits.groupby(\"event_nr\").max())"
   ]
  },
  {
   "cell_type": "code",
   "execution_count": 106,
   "metadata": {},
   "outputs": [
    {
     "data": {
      "text/plain": [
       "0.9687187687387567"
      ]
     },
     "execution_count": 106,
     "metadata": {},
     "output_type": "execute_result"
    }
   ],
   "source": []
  }
 ],
 "metadata": {
  "kernelspec": {
   "display_name": "Python 3",
   "language": "python",
   "name": "python3"
  },
  "language_info": {
   "codemirror_mode": {
    "name": "ipython",
    "version": 3
   },
   "file_extension": ".py",
   "mimetype": "text/x-python",
   "name": "python",
   "nbconvert_exporter": "python",
   "pygments_lexer": "ipython3",
   "version": "3.8.5"
  }
 },
 "nbformat": 4,
 "nbformat_minor": 4
}
